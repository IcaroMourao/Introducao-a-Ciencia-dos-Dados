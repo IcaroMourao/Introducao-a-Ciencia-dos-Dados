{
 "cells": [
  {
   "cell_type": "markdown",
   "metadata": {},
   "source": [
    "# Introdução a Ciência dos Dados (na prática)"
   ]
  },
  {
   "cell_type": "markdown",
   "metadata": {},
   "source": [
    "### Introdução\n",
    "\n",
    "- `O que é Ciência dos Dados`\n",
    "    - Ciência de dados (em inglês: data science) é uma área interdisciplinar voltada para o estudo e a análise de dados, estruturados ou não.\n",
    "- `Onde é aplicada`\n",
    "    - Busca na internet\n",
    "    - Propaganda digital\n",
    "    - Reconhecimento de imagens\n",
    "- `Quais linguagens são utilizadas`\n",
    "    - Python\n",
    "    - R\n",
    "    - SQL\n",
    "- `Áreas que envolve`\n",
    "    - Inteligência Artificial\n",
    "    - Mineração de Dados\n",
    "    - Big Data\n",
    "    - Machining Learn"
   ]
  },
  {
   "cell_type": "markdown",
   "metadata": {},
   "source": [
    "### Exemplos de Aplicações\n",
    "\n",
    "- Google\n",
    "\n",
    "- Sistemas de recomendação (Netflix, Youtube, Spotify)\n",
    "\n",
    "- Sites de comparação de preços (Bucape, Zoom)\n",
    "\n",
    "<img src=\"https://imagepng.org/wp-content/uploads/2019/08/google-icon-1.png\" alt=\"Pandas\" width=\"100\" height=\"100\" align=\"left\"/>\n",
    "<img src=\"https://user-images.githubusercontent.com/33750251/59487006-313d6080-8e73-11e9-8c50-3a5660761138.png\" alt=\"Pandas\" width=\"100\" height=\"100\" align=\"left\"/>\n",
    "<img src=\"https://s.zst.com.br/web/img/themes/zoom/logo-share.png\" alt=\"Pandas\" width=\"100\" height=\"100\" align=\"left\"/>"
   ]
  },
  {
   "cell_type": "markdown",
   "metadata": {},
   "source": [
    "### Princiapis Ferramentas e Bibliotecas\n",
    "\n",
    "- [Jupyter Notebook](https://github.com/jupyter/notebook)\n",
    "- [Python](https://docs.python.org/3/library/index.html)\n",
    "- [Numpy](https://numpy.org/doc/1.17/reference/index.html)\n",
    "- [Pandas](https://pandas.pydata.org/pandas-docs/stable/reference/index.html) \n",
    "- [Matplotlib (pyplot)](https://matplotlib.org/3.1.1/api/_as_gen/matplotlib.pyplot.html#module-matplotlib.pyplot)\n",
    "\n",
    "<img src=\"https://s3.amazonaws.com/com.twilio.prod.twilio-docs/images/jupyter_python_numpy.width-808.png\" alt=\"Pandas\" width=\"400\" height=\"400\" align=\"left\"/>\n",
    "<img src=\"https://cdn.dribbble.com/users/337705/screenshots/6125087/6_2x.jpg\" alt=\"Pandas\" width=\"100\" height=\"100\" align=\"left\"/>\n",
    "<img src=\"https://matplotlib.org/3.1.1/_static/logo2_compressed.svg\" alt=\"Pandas\" width=\"200\" height=\"200\" align=\"left\"/>"
   ]
  },
  {
   "cell_type": "markdown",
   "metadata": {},
   "source": [
    "### Jupyter Notebook (Atalhos)\n",
    "\n",
    "Os seguintes atalhos estão implementados por default para célula no modo comando:\n",
    "\n",
    "- `Ctrl-Enter`: executa a célula;\n",
    "- `Shift-Enter`: executa a célula e cria uma nova célula abaixo no modo de comando;\n",
    "- `Alt-Enter`: executa a célula e cria uma nova célula abaixo no modo de edição;\n",
    "- `Y`: muda a célula para o tipo código;\n",
    "- `M`: muda a célula para o tipo markdown;\n",
    "- `A`: insere célula acima;\n",
    "- `B`: insere célula abaixo;\n",
    "- `X`: recorta a célula;\n",
    "- `C`: copia a célula;\n",
    "- `V`: cola a célula do clipboard abaixo;\n",
    "- `shift-V`: cola a célula do clipboard acima;\n",
    "- `D, D`: deleta uma célula;\n",
    "- `Z`: desfaz o apagar célula; e\n",
    "- `L`: ativa a enumeração das linhas."
   ]
  }
 ],
 "metadata": {
  "kernelspec": {
   "display_name": "Python 3",
   "language": "python",
   "name": "python3"
  },
  "language_info": {
   "codemirror_mode": {
    "name": "ipython",
    "version": 3
   },
   "file_extension": ".py",
   "mimetype": "text/x-python",
   "name": "python",
   "nbconvert_exporter": "python",
   "pygments_lexer": "ipython3",
   "version": "3.6.8"
  }
 },
 "nbformat": 4,
 "nbformat_minor": 2
}
